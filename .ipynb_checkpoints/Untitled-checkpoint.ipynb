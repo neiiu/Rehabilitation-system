{
 "cells": [
  {
   "cell_type": "code",
   "execution_count": null,
   "id": "05f5f1e7",
   "metadata": {},
   "outputs": [],
   "source": [
    "import matplotlib.pyplot as plt\n",
    "import matplotlib.image as mimage\n",
    "import matplotlib.cbook as cbook\n",
    "\n",
    "datafile = cbook.get_sample_data('C:\\\\Users\\\\20230415\\\\Downloads\\\\southeast-removebg-preview.png', asfileobj=False)\n",
    "im = mimage.imread(datafile)\n",
    "\n",
    "fig, ax = plt.subplots(figsize=(5.,5.))\n",
    "myaximage = ax.imshow(im, aspect='auto', extent=(20, 80, 20, 80), alpha=0.5)\n",
    "ax.plot(range(100))\n",
    "\n",
    "plt.show()\n"
   ]
  }
 ],
 "metadata": {
  "kernelspec": {
   "display_name": "Python 3 (ipykernel)",
   "language": "python",
   "name": "python3"
  },
  "language_info": {
   "codemirror_mode": {
    "name": "ipython",
    "version": 3
   },
   "file_extension": ".py",
   "mimetype": "text/x-python",
   "name": "python",
   "nbconvert_exporter": "python",
   "pygments_lexer": "ipython3",
   "version": "3.11.4"
  }
 },
 "nbformat": 4,
 "nbformat_minor": 5
}
